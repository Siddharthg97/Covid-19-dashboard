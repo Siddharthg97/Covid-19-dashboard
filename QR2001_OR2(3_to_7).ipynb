{
  "nbformat": 4,
  "nbformat_minor": 0,
  "metadata": {
    "colab": {
      "name": "QR2001_OR2(3 to 7).ipynb",
      "provenance": [],
      "collapsed_sections": [],
      "include_colab_link": true
    },
    "kernelspec": {
      "display_name": "Python 3",
      "language": "python",
      "name": "python3"
    },
    "language_info": {
      "codemirror_mode": {
        "name": "ipython",
        "version": 3
      },
      "file_extension": ".py",
      "mimetype": "text/x-python",
      "name": "python",
      "nbconvert_exporter": "python",
      "pygments_lexer": "ipython3",
      "version": "3.8.5"
    }
  },
  "cells": [
    {
      "cell_type": "markdown",
      "metadata": {
        "id": "view-in-github",
        "colab_type": "text"
      },
      "source": [
        "<a href=\"https://colab.research.google.com/github/Siddharthg97/Covid-19-dashboard/blob/main/QR2001_OR2(3_to_7).ipynb\" target=\"_parent\"><img src=\"https://colab.research.google.com/assets/colab-badge.svg\" alt=\"Open In Colab\"/></a>"
      ]
    },
    {
      "cell_type": "markdown",
      "metadata": {
        "id": "HJLgW2FoEBIM"
      },
      "source": [
        "# Assignment-I (QR2001)\n",
        "#                                      Potential Reducion Method "
      ]
    },
    {
      "cell_type": "markdown",
      "metadata": {
        "id": "GtbKxHK_EBIW"
      },
      "source": [
        "### Consider the problem:  Y = AX + q  where $$X\\geq 0,Y\\geq0, X^T Y =0$$\n",
        "$$Step\\space0 : s > 0,\\space\\space\\space\\space\\space\\epsilon > 0,\\space\\space\\space\\space\\space \\alpha\\in(0,1),\\space\\space\\space\\space\\space \\bar{\\beta} \\in [0,1),\\space\\space\\space\\space\\space\\sigma>0,\\space\\space\\space\\space\\space\\rho\\in (0,1)$$\n",
        "$$Choose \\space Z^0\\space:=(X^0, Y^0)\\space where, \\space X^0, Y^0 \\in R_+^n,\\space\\beta_0 \\in [0,\\bar{\\beta}),\\space k=0 $$"
      ]
    },
    {
      "cell_type": "markdown",
      "metadata": {
        "id": "ArPXzmlPEBId"
      },
      "source": [
        "#### $$Step\\space 1\\space :\\space Solve \\space the \\space system \\space of \\space Equations\\space M(\\Delta X) = \\space N $$\n",
        "$$ \\begin{bmatrix}\n",
        "Y^k & X^k \\\\\n",
        "-A & I \n",
        "\\end{bmatrix} \n",
        "%\n",
        "\\begin{bmatrix}\n",
        "\\Delta x^k \\\\\n",
        "\\Delta y^k \n",
        "\\end{bmatrix} \n",
        "=\n",
        "\\begin{bmatrix}\n",
        "- X^k Y + \\beta \\dfrac{(X^k)^T}{n} Ye \\\\\n",
        "- Y^k + AX + q\n",
        "\\end{bmatrix} \\space\\space\\space to\\space obtain\\space the\\space d^k:= \\space (\\Delta X^k, \\Delta Y^k), \\space e\\space is\\space vector\\space of\\space \\bar{1}$$"
      ]
    },
    {
      "cell_type": "markdown",
      "metadata": {
        "id": "y6LzpFRZEBIi"
      },
      "source": [
        "#### $$Step\\space 2\\space :\\space Let \\space l_k \\space be \\space the \\space smallest\\space non-negative\\space integer-l,\\space such\\space that\\space the\\space following\\space conditions\\space holds: Z^k + \\sigma \\rho ^l d^k \\in R_+^n \\times R_+^n $$\n",
        "$$\\phi (Z^k + \\sigma \\rho ^l d^k) - \\phi (Z^k) \\leq \\alpha \\sigma \\rho^l(1-\\beta^k )s ,\\space and\\space Z:=(X,Y),\\space s>0\\\\ $$\n",
        "$$where, \\space \\phi (Z) = (n+s) \\space \\ln (X^T Y + ||Y - AX-q||_2^2 )- \\sum_{n=1}^{n} \\ln x_i y_i \\\\ $$\n",
        "$$ Set,\\space Z^{k+1} = Z^k + \\sigma \\rho ^l d^k \\\\ $$"
      ]
    },
    {
      "cell_type": "markdown",
      "metadata": {
        "id": "OfoZNr91EBIj"
      },
      "source": [
        "#### $$Step\\space 3\\space :\\space Termination \\space Verification $$\n",
        "$$ If\\space  z_{k+1} \\space satisfies : f(z^{k+1}) = (X^{k+1})^T(Y^{k+1}) + ||Y^{k+1} - AX^{k+1} - q||_2^2 < \\epsilon$$\n",
        "$$then\\space  z_{k+1}\\space  is\\space  an\\space  approximate  \\space solution\\space  of\\space Y=AX+q, \\space x,y\\geq 0 ,\\space X^T Y=0 \\\\ $$ \n",
        "$$ Else\\space If\\space  z_{k+1} \\space - z_k < \\epsilon \\space \\ln x_j^{k+1} y_j^{k+1} = 0 \\space for \\space some \\space j, \\space then \\space z_{k+1} \\space is\\space  an\\space  approximate  \\space solution\\space$$  \n",
        "$$ Otherwise, \\space pick \\space any \\space \\beta_{k+1} \\in [0,\\bar{\\beta }] \\space and \\space return \\space to \\space Step \\space 1 \\space with \\space k=k+1 $$"
      ]
    },
    {
      "cell_type": "code",
      "metadata": {
        "id": "tCxTPDyZP1xM"
      },
      "source": [
        "import pandas as pd\n",
        "import numpy as np\n",
        "import random\n",
        "import matplotlib.pyplot as plt"
      ],
      "execution_count": null,
      "outputs": []
    },
    {
      "cell_type": "code",
      "source": [
        ""
      ],
      "metadata": {
        "id": "E-FERQHyZrCT"
      },
      "execution_count": null,
      "outputs": []
    },
    {
      "cell_type": "markdown",
      "metadata": {
        "id": "Jqvnm5KCP1xP"
      },
      "source": [
        "# Exercise-3"
      ]
    },
    {
      "cell_type": "code",
      "metadata": {
        "colab": {
          "base_uri": "https://localhost:8080/",
          "height": 206
        },
        "id": "WZor8c9vP1xQ",
        "outputId": "17c1fc00-c3f1-4cdb-b75b-6bfbf6819775"
      },
      "source": [
        "df=pd.read_csv(\"/content/Ex-(3-7).csv\",header=None)\n",
        "df2=df.iloc[:5,:]\n",
        "df2"
      ],
      "execution_count": null,
      "outputs": [
        {
          "output_type": "execute_result",
          "data": {
            "text/html": [
              "<div>\n",
              "<style scoped>\n",
              "    .dataframe tbody tr th:only-of-type {\n",
              "        vertical-align: middle;\n",
              "    }\n",
              "\n",
              "    .dataframe tbody tr th {\n",
              "        vertical-align: top;\n",
              "    }\n",
              "\n",
              "    .dataframe thead th {\n",
              "        text-align: right;\n",
              "    }\n",
              "</style>\n",
              "<table border=\"1\" class=\"dataframe\">\n",
              "  <thead>\n",
              "    <tr style=\"text-align: right;\">\n",
              "      <th></th>\n",
              "      <th>0</th>\n",
              "      <th>1</th>\n",
              "      <th>2</th>\n",
              "      <th>3</th>\n",
              "      <th>4</th>\n",
              "      <th>5</th>\n",
              "    </tr>\n",
              "  </thead>\n",
              "  <tbody>\n",
              "    <tr>\n",
              "      <th>0</th>\n",
              "      <td>0.0</td>\n",
              "      <td>-90.0</td>\n",
              "      <td>-80.0</td>\n",
              "      <td>-70.0</td>\n",
              "      <td>0.0</td>\n",
              "      <td>400.0</td>\n",
              "    </tr>\n",
              "    <tr>\n",
              "      <th>1</th>\n",
              "      <td>-90.0</td>\n",
              "      <td>-2.0</td>\n",
              "      <td>-2.0</td>\n",
              "      <td>-2.0</td>\n",
              "      <td>2.0</td>\n",
              "      <td>50.0</td>\n",
              "    </tr>\n",
              "    <tr>\n",
              "      <th>2</th>\n",
              "      <td>-70.0</td>\n",
              "      <td>-2.0</td>\n",
              "      <td>-1.0</td>\n",
              "      <td>-3.0</td>\n",
              "      <td>3.0</td>\n",
              "      <td>30.0</td>\n",
              "    </tr>\n",
              "    <tr>\n",
              "      <th>3</th>\n",
              "      <td>-50.0</td>\n",
              "      <td>-2.0</td>\n",
              "      <td>-3.0</td>\n",
              "      <td>-0.8</td>\n",
              "      <td>3.0</td>\n",
              "      <td>20.0</td>\n",
              "    </tr>\n",
              "    <tr>\n",
              "      <th>4</th>\n",
              "      <td>0.0</td>\n",
              "      <td>2.0</td>\n",
              "      <td>3.0</td>\n",
              "      <td>3.0</td>\n",
              "      <td>0.0</td>\n",
              "      <td>-10.0</td>\n",
              "    </tr>\n",
              "  </tbody>\n",
              "</table>\n",
              "</div>"
            ],
            "text/plain": [
              "      0     1     2     3    4      5\n",
              "0   0.0 -90.0 -80.0 -70.0  0.0  400.0\n",
              "1 -90.0  -2.0  -2.0  -2.0  2.0   50.0\n",
              "2 -70.0  -2.0  -1.0  -3.0  3.0   30.0\n",
              "3 -50.0  -2.0  -3.0  -0.8  3.0   20.0\n",
              "4   0.0   2.0   3.0   3.0  0.0  -10.0"
            ]
          },
          "metadata": {},
          "execution_count": 24
        }
      ]
    },
    {
      "cell_type": "code",
      "metadata": {
        "id": "Mh5NffXiQLmk"
      },
      "source": [
        ""
      ],
      "execution_count": null,
      "outputs": []
    },
    {
      "cell_type": "markdown",
      "metadata": {
        "id": "nLA5ZjnXEBIl"
      },
      "source": [
        "# Initialization of Parameters"
      ]
    },
    {
      "cell_type": "code",
      "metadata": {
        "colab": {
          "base_uri": "https://localhost:8080/"
        },
        "id": "deoLTr9tP1xS",
        "outputId": "b7242cb0-af42-48e2-edc3-8b6263106739"
      },
      "source": [
        "a = np.array(df.iloc[:5,:5])\n",
        "print(\"A: \",a,end=\"\\n\")\n",
        "q = np.array(df.iloc[:5,5])\n",
        "n = a.shape[0]\n",
        "\n",
        "S = np.array([0.1,0.2,0.25,0.3,0.35,0.4,0.45,0.5,0.6,0.7])\n",
        "s=round(random.choice(S),2)\n",
        "epsilon = 10**-4\n",
        "alpha,rho = 0.001,0.1\n",
        "\n",
        "beta_bar = 0.03 \n",
        "sigma = 50\n",
        "\n",
        "z = np.random.randint(1,10,2*n)\n",
        "e = np.ones(n)\n",
        "beta = 0.025\n",
        "print(\"alpha =\",alpha,\", beta_bar =\",beta_bar,\",rho =\",rho, \n",
        "      \", s=\",s,\", sigma=\",sigma,\", beta =\",beta)\n",
        "max_iter=int(input(\"Please provide the number of iterations after which x and y values are required :\"))"
      ],
      "execution_count": null,
      "outputs": [
        {
          "name": "stdout",
          "output_type": "stream",
          "text": [
            "A:  [[  0.  -90.  -80.  -70.    0. ]\n",
            " [-90.   -2.   -2.   -2.    2. ]\n",
            " [-70.   -2.   -1.   -3.    3. ]\n",
            " [-50.   -2.   -3.   -0.8   3. ]\n",
            " [  0.    2.    3.    3.    0. ]]\n",
            "alpha = 0.001 , beta_bar = 0.03 ,rho = 0.1 , s= 0.25 , sigma= 50 , beta = 0.025\n",
            "Please provide the number of iterations after which x and y values are required :55\n"
          ]
        }
      ]
    },
    {
      "cell_type": "markdown",
      "metadata": {
        "id": "yBlpLxBaP1xU"
      },
      "source": [
        "# Algorithm"
      ]
    },
    {
      "cell_type": "code",
      "metadata": {
        "id": "rWYK7MU2P1xU",
        "colab": {
          "base_uri": "https://localhost:8080/"
        },
        "outputId": "d233e940-3004-46a4-985e-579829b01807"
      },
      "source": [
        "#---------------------------------------------------------------------------------------------------------\n",
        "# Step1\n",
        "#---------------------------------------------------------------------------------------------------------\n",
        "\n",
        "#Func to find Phi(z)\n",
        "def phi(z):\n",
        "    x = z[:n]\n",
        "    y = z[n:]\n",
        "    return ((n+s)*np.log(np.dot(x,y) + (np.linalg.norm(y - np.dot(a,x) - q))**2)) - sum(np.log(np.multiply(x,y)))\n",
        "\n",
        "#Func to terminate \n",
        "def f(z):\n",
        "  x = z[:n]\n",
        "  y = z[n:]\n",
        "  return np.dot(x,y) + pow(np.linalg.norm(y - np.dot(a,x) - q),2)\n",
        "\n",
        "k=0\n",
        "list1=[]\n",
        "for i in range (max_iter): \n",
        "  k=k+1\n",
        "  print(\"=\"*30,k,\"- epoch\",\"=\"*30)\n",
        "    \n",
        "  #Solving Linear Equation A (Delta X) = B\n",
        "  A = np.vstack((np.hstack((np.diag(z[n:]), np.diag(z[:n]))),np.hstack((-a, np.eye(n)))))\n",
        "  B = np.vstack((((-1)*np.dot(np.diag(z[:n]),z[n:]) + (beta*np.dot(z[:n],z[n:]))/n*e).reshape(n,1),(-z[n:]+np.dot(a,z[:n])+q).reshape(n,1)))\n",
        "  delta_X = np.linalg.solve(A, B)\n",
        "\n",
        "  #---------------------------------------------------------------------------------------------------------\n",
        "  # Step2\n",
        "  #---------------------------------------------------------------------------------------------------------\n",
        "  \n",
        "  #Finding l = smallest non-negative integer then find z^{k+1}  \n",
        "  l = 0\n",
        "  while True:\n",
        "    threshold = (-1)* alpha*sigma*(1-beta)*s*rho**l\n",
        "    z_new = z + sigma*(rho**l)*delta_X.ravel()\n",
        "    \n",
        "    # If any element in X and Y are non-positive then phi(z) not calculated, proceed to next iteration\n",
        "    # If all elements in X and Y are positive (>0) then only phi(z) should be calculated \n",
        "    if (z_new>0).all() and phi(z_new)- phi(z) <= threshold :\n",
        "        z = z_new\n",
        "        break\n",
        "    else:\n",
        "      l=l+1\n",
        "  #print(\"l = \",l)\n",
        "  \n",
        "  #---------------------------------------------------------------------------------------------------------\n",
        "  # Step 3\n",
        "  #---------------------------------------------------------------------------------------------------------\n",
        "  #if (f(z)  < epsilon) and round(np.dot(z[:n],z[n:]),4)==0:\n",
        "   # print(f(z),np.round(z[:n],2),np.round(z[n:],2))\n",
        "    #break\n",
        "  #elif (np.linalg.norm(z_new - z) <epsilon) and (np.multiply(z_new[:n],z_new[n:])==1).any() :\n",
        "   # print(z_new[:n],z_new[n:])\n",
        "    #break\n",
        "  #else:\n",
        "   # print(f(z) ,epsilon)\n",
        "    #print(\" beta=\",round(beta,2),\"X=\",x,\"Y=\",y, \"-\",l,\"==\",np.dot(x_new,y_new) + np.linalg.norm(y_new - np.dot(a,x_new) - q)**2)\n",
        "        \n",
        "    #Updating beta, X, Y for next Iteration\n",
        "  beta = np.random.uniform(0,beta_bar)\n",
        "  print(\"f(z)\",f(z))\n",
        "  list1.append(f(z))\n",
        "  "
      ],
      "execution_count": null,
      "outputs": [
        {
          "output_type": "stream",
          "name": "stdout",
          "text": [
            "============================== 1 - epoch ==============================\n",
            "f(z) 973222.5152742572\n",
            "============================== 2 - epoch ==============================\n",
            "f(z) 878336.5180868028\n",
            "============================== 3 - epoch ==============================\n",
            "f(z) 792701.875003524\n",
            "============================== 4 - epoch ==============================\n",
            "f(z) 715416.4626545351\n",
            "============================== 5 - epoch ==============================\n",
            "f(z) 645666.3257488091\n",
            "============================== 6 - epoch ==============================\n",
            "f(z) 582716.6276078833\n",
            "============================== 7 - epoch ==============================\n",
            "f(z) 145681.85927766704\n",
            "============================== 8 - epoch ==============================\n",
            "f(z) 36424.971704123054\n",
            "============================== 9 - epoch ==============================\n",
            "f(z) 9108.733952829076\n",
            "============================== 10 - epoch ==============================\n",
            "f(z) 2278.5337197660856\n",
            "============================== 11 - epoch ==============================\n",
            "f(z) 570.3849437253549\n",
            "============================== 12 - epoch ==============================\n",
            "f(z) 142.9936049853815\n",
            "============================== 13 - epoch ==============================\n",
            "f(z) 35.956800402103575\n",
            "============================== 14 - epoch ==============================\n",
            "f(z) 9.097452664216062\n",
            "============================== 15 - epoch ==============================\n",
            "f(z) 2.328974077698894\n",
            "============================== 16 - epoch ==============================\n",
            "f(z) 0.6096010874791905\n",
            "============================== 17 - epoch ==============================\n",
            "f(z) 0.1662476902487087\n",
            "============================== 18 - epoch ==============================\n",
            "f(z) 0.04880017491023615\n",
            "============================== 19 - epoch ==============================\n",
            "f(z) 0.015838448468029735\n",
            "============================== 20 - epoch ==============================\n",
            "f(z) 0.005791396241819232\n",
            "============================== 21 - epoch ==============================\n",
            "f(z) 0.002402865186985298\n",
            "============================== 22 - epoch ==============================\n",
            "f(z) 0.0010789671327252354\n",
            "============================== 23 - epoch ==============================\n",
            "f(z) 0.0005165393060001119\n",
            "============================== 24 - epoch ==============================\n",
            "f(z) 0.0002534873373901043\n",
            "============================== 25 - epoch ==============================\n",
            "f(z) 0.00012569675917245503\n",
            "============================== 26 - epoch ==============================\n",
            "f(z) 6.293363552251526e-05\n",
            "============================== 27 - epoch ==============================\n",
            "f(z) 3.197364715396374e-05\n",
            "============================== 28 - epoch ==============================\n",
            "f(z) 1.6218679527206825e-05\n",
            "============================== 29 - epoch ==============================\n",
            "f(z) 8.14902935865386e-06\n",
            "============================== 30 - epoch ==============================\n",
            "f(z) 4.12106745172792e-06\n",
            "============================== 31 - epoch ==============================\n",
            "f(z) 2.105953261832208e-06\n",
            "============================== 32 - epoch ==============================\n",
            "f(z) 1.0726021441136018e-06\n",
            "============================== 33 - epoch ==============================\n",
            "f(z) 5.420305162199936e-07\n",
            "============================== 34 - epoch ==============================\n",
            "f(z) 2.7885761276505076e-07\n",
            "============================== 35 - epoch ==============================\n",
            "f(z) 1.433888395720624e-07\n",
            "============================== 36 - epoch ==============================\n",
            "f(z) 7.280656384827746e-08\n",
            "============================== 37 - epoch ==============================\n",
            "f(z) 3.6874975704926137e-08\n",
            "============================== 38 - epoch ==============================\n",
            "f(z) 1.8523068262613336e-08\n",
            "============================== 39 - epoch ==============================\n",
            "f(z) 9.52841063174745e-09\n",
            "============================== 40 - epoch ==============================\n",
            "f(z) 4.8817796625611516e-09\n",
            "============================== 41 - epoch ==============================\n",
            "f(z) 2.491698926702053e-09\n",
            "============================== 42 - epoch ==============================\n",
            "f(z) 1.2682205570967729e-09\n",
            "============================== 43 - epoch ==============================\n",
            "f(z) 6.492761254465061e-10\n",
            "============================== 44 - epoch ==============================\n",
            "f(z) 3.25879824281229e-10\n",
            "============================== 45 - epoch ==============================\n",
            "f(z) 1.6374861968944138e-10\n",
            "============================== 46 - epoch ==============================\n",
            "f(z) 8.418459401388936e-11\n",
            "============================== 47 - epoch ==============================\n",
            "f(z) 4.210669577446732e-11\n",
            "============================== 48 - epoch ==============================\n",
            "f(z) 2.1109291656518563e-11\n",
            "============================== 49 - epoch ==============================\n",
            "f(z) 1.077211387719523e-11\n",
            "============================== 50 - epoch ==============================\n",
            "f(z) 5.461548951601907e-12\n",
            "============================== 51 - epoch ==============================\n",
            "f(z) 2.8017048009570185e-12\n",
            "============================== 52 - epoch ==============================\n",
            "f(z) 1.4147990677490328e-12\n",
            "============================== 53 - epoch ==============================\n",
            "f(z) 7.187909247714232e-13\n",
            "============================== 54 - epoch ==============================\n",
            "f(z) 3.655703295009261e-13\n",
            "============================== 55 - epoch ==============================\n",
            "f(z) 1.8558189256179022e-13\n"
          ]
        }
      ]
    },
    {
      "cell_type": "markdown",
      "metadata": {
        "id": "uv4AVVLkP1xV"
      },
      "source": [
        "# Results"
      ]
    },
    {
      "cell_type": "code",
      "metadata": {
        "id": "n5N0qHmZP1xW",
        "colab": {
          "base_uri": "https://localhost:8080/",
          "height": 377
        },
        "outputId": "3b555362-376c-4ed1-ed53-a6c26a39427a"
      },
      "source": [
        "print(\"X = \",np.round(z[:n],2))\n",
        "print(\"Y = \",np.round(z[n:],2))\n",
        "print(\"Epochs : \",k)\n",
        "print(\"f(z) values=\",list1)\n",
        "\n",
        "x=range(1,len(list1)+1)\n",
        "fig,ax=plt.subplots()\n",
        "plt.plot(x,list1)\n",
        "ax.tick_params(axis='x', labelsize=8)\n",
        "ax.tick_params(axis='y', labelsize=8)\n",
        "plt.xlabel(\"epochs\",fontsize=\"12\")\n",
        "plt.ylabel(\"f(z)\",fontsize=\"12\")\n",
        "plt.savefig(\"Exercise-3.png\",dpi=400)\n",
        "plt.show()"
      ],
      "execution_count": null,
      "outputs": [
        {
          "output_type": "stream",
          "name": "stdout",
          "text": [
            "X =  [0.24 0.   1.63 3.85 0.  ]\n",
            "Y =  [ 0.   17.4   0.    0.    6.44]\n",
            "Epochs :  55\n",
            "f(z) values= [973222.5152742572, 878336.5180868028, 792701.875003524, 715416.4626545351, 645666.3257488091, 582716.6276078833, 145681.85927766704, 36424.971704123054, 9108.733952829076, 2278.5337197660856, 570.3849437253549, 142.9936049853815, 35.956800402103575, 9.097452664216062, 2.328974077698894, 0.6096010874791905, 0.1662476902487087, 0.04880017491023615, 0.015838448468029735, 0.005791396241819232, 0.002402865186985298, 0.0010789671327252354, 0.0005165393060001119, 0.0002534873373901043, 0.00012569675917245503, 6.293363552251526e-05, 3.197364715396374e-05, 1.6218679527206825e-05, 8.14902935865386e-06, 4.12106745172792e-06, 2.105953261832208e-06, 1.0726021441136018e-06, 5.420305162199936e-07, 2.7885761276505076e-07, 1.433888395720624e-07, 7.280656384827746e-08, 3.6874975704926137e-08, 1.8523068262613336e-08, 9.52841063174745e-09, 4.8817796625611516e-09, 2.491698926702053e-09, 1.2682205570967729e-09, 6.492761254465061e-10, 3.25879824281229e-10, 1.6374861968944138e-10, 8.418459401388936e-11, 4.210669577446732e-11, 2.1109291656518563e-11, 1.077211387719523e-11, 5.461548951601907e-12, 2.8017048009570185e-12, 1.4147990677490328e-12, 7.187909247714232e-13, 3.655703295009261e-13, 1.8558189256179022e-13]\n"
          ]
        },
        {
          "output_type": "display_data",
          "data": {
            "image/png": "[encoded data removed]",
            "text/plain": [
              "<Figure size 432x288 with 1 Axes>"
            ]
          },
          "metadata": {
            "needs_background": "light"
          }
        }
      ]
    },
    {
      "cell_type": "markdown",
      "metadata": {
        "id": "cJu6DxR8P1xW"
      },
      "source": [
        "# Exercise-4"
      ]
    },
    {
      "cell_type": "code",
      "metadata": {
        "colab": {
          "base_uri": "https://localhost:8080/",
          "height": 206
        },
        "id": "xnIpgWFJP1xX",
        "outputId": "5fbf6e37-b5d7-40ad-8571-b94db9a2d6d5"
      },
      "source": [
        "df2= df.iloc[6:11,:6]\n",
        "df2\n"
      ],
      "execution_count": null,
      "outputs": [
        {
          "output_type": "execute_result",
          "data": {
            "text/html": [
              "<div>\n",
              "<style scoped>\n",
              "    .dataframe tbody tr th:only-of-type {\n",
              "        vertical-align: middle;\n",
              "    }\n",
              "\n",
              "    .dataframe tbody tr th {\n",
              "        vertical-align: top;\n",
              "    }\n",
              "\n",
              "    .dataframe thead th {\n",
              "        text-align: right;\n",
              "    }\n",
              "</style>\n",
              "<table border=\"1\" class=\"dataframe\">\n",
              "  <thead>\n",
              "    <tr style=\"text-align: right;\">\n",
              "      <th></th>\n",
              "      <th>0</th>\n",
              "      <th>1</th>\n",
              "      <th>2</th>\n",
              "      <th>3</th>\n",
              "      <th>4</th>\n",
              "      <th>5</th>\n",
              "    </tr>\n",
              "  </thead>\n",
              "  <tbody>\n",
              "    <tr>\n",
              "      <th>6</th>\n",
              "      <td>0.0</td>\n",
              "      <td>0.0</td>\n",
              "      <td>0.0</td>\n",
              "      <td>1.0</td>\n",
              "      <td>2.0</td>\n",
              "      <td>-2.0</td>\n",
              "    </tr>\n",
              "    <tr>\n",
              "      <th>7</th>\n",
              "      <td>0.0</td>\n",
              "      <td>0.0</td>\n",
              "      <td>-1.0</td>\n",
              "      <td>-1.0</td>\n",
              "      <td>2.0</td>\n",
              "      <td>-1.0</td>\n",
              "    </tr>\n",
              "    <tr>\n",
              "      <th>8</th>\n",
              "      <td>0.0</td>\n",
              "      <td>-1.0</td>\n",
              "      <td>0.0</td>\n",
              "      <td>-1.0</td>\n",
              "      <td>1.0</td>\n",
              "      <td>7.0</td>\n",
              "    </tr>\n",
              "    <tr>\n",
              "      <th>9</th>\n",
              "      <td>1.0</td>\n",
              "      <td>-1.0</td>\n",
              "      <td>-1.0</td>\n",
              "      <td>0.0</td>\n",
              "      <td>0.0</td>\n",
              "      <td>2.0</td>\n",
              "    </tr>\n",
              "    <tr>\n",
              "      <th>10</th>\n",
              "      <td>2.0</td>\n",
              "      <td>1.0</td>\n",
              "      <td>0.0</td>\n",
              "      <td>0.0</td>\n",
              "      <td>0.0</td>\n",
              "      <td>-1.0</td>\n",
              "    </tr>\n",
              "  </tbody>\n",
              "</table>\n",
              "</div>"
            ],
            "text/plain": [
              "      0    1    2    3    4    5\n",
              "6   0.0  0.0  0.0  1.0  2.0 -2.0\n",
              "7   0.0  0.0 -1.0 -1.0  2.0 -1.0\n",
              "8   0.0 -1.0  0.0 -1.0  1.0  7.0\n",
              "9   1.0 -1.0 -1.0  0.0  0.0  2.0\n",
              "10  2.0  1.0  0.0  0.0  0.0 -1.0"
            ]
          },
          "metadata": {},
          "execution_count": 65
        }
      ]
    },
    {
      "cell_type": "markdown",
      "metadata": {
        "id": "03zEs9tdP1xX"
      },
      "source": [
        "# Initialization of Parameters"
      ]
    },
    {
      "cell_type": "code",
      "metadata": {
        "id": "e8-H4rikP1xX",
        "colab": {
          "base_uri": "https://localhost:8080/"
        },
        "outputId": "022a8002-fcfd-4f0b-dd66-9a3982b2832e"
      },
      "source": [
        "a = np.array(df.iloc[6:11,:5])\n",
        "print(\"A: \",a,end=\"\\n\")\n",
        "q = np.array(df.iloc[6:11,5])\n",
        "n = a.shape[0]\n",
        "s = 0.9\n",
        "epsilon = 10**-4\n",
        "alpha,rho = 0.0001,0.1 \n",
        "#alpha = 0.2 # random.uniform(0,1)\n",
        "beta_bar = 0.03 #random.uniform(0,0.5)   => beta_bar in [0,0.5)\n",
        "sigma = 50\n",
        "#rho = random.uniform(0,1)\n",
        "z = np.random.randint(1,10,2*n)\n",
        "e = np.ones(n)\n",
        "beta = 0.0005 #np.random.uniform(0,beta_bar)\n",
        "print(\"alpha =\",round(alpha,2),\", beta_bar =\",round(beta_bar,2),\", rho =\",round(rho,2), \n",
        "      \" s=\",s,\" sigma=\",sigma,\" rho=\",round(rho,2),\" beta\",round(beta,2))\n",
        "\n",
        "max_iter=int(input(\"Please provide the number of iterations after which x and y values are required :\"))\n"
      ],
      "execution_count": null,
      "outputs": [
        {
          "name": "stdout",
          "output_type": "stream",
          "text": [
            "A:  [[ 0.  0.  0.  1.  2.]\n",
            " [ 0.  0. -1. -1.  2.]\n",
            " [ 0. -1.  0. -1.  1.]\n",
            " [ 1. -1. -1.  0.  0.]\n",
            " [ 2.  1.  0.  0.  0.]]\n",
            "alpha = 0.0 , beta_bar = 0.03 , rho = 0.1  s= 0.9  sigma= 50  rho= 0.1  beta 0.0\n",
            "Please provide the number of iterations after which x and y values are required :55\n"
          ]
        }
      ]
    },
    {
      "cell_type": "markdown",
      "metadata": {
        "id": "FOApV20bP1xY"
      },
      "source": [
        "# Algorithm"
      ]
    },
    {
      "cell_type": "code",
      "metadata": {
        "id": "Hea18dzdP1xY",
        "colab": {
          "base_uri": "https://localhost:8080/"
        },
        "outputId": "d04315e7-20a3-4189-eb99-5d3685f52219"
      },
      "source": [
        "#---------------------------------------------------------------------------------------------------------\n",
        "# Step1\n",
        "#---------------------------------------------------------------------------------------------------------\n",
        "\n",
        "#Func to find Phi(z)\n",
        "def phi(z):\n",
        "    x = z[:n]\n",
        "    y = z[n:]\n",
        "    return ((n+s)*np.log(np.dot(x,y) + (np.linalg.norm(y - np.dot(a,x) - q))**2)) - sum(np.log(np.multiply(x,y)))\n",
        "\n",
        "#Func to terminate \n",
        "def f(z):\n",
        "  x = z[:n]\n",
        "  y = z[n:]\n",
        "  return np.dot(x,y) + pow(np.linalg.norm(y - np.dot(a,x) - q),2)\n",
        "\n",
        "k=0\n",
        "list1=[]\n",
        "for i in range (max_iter): \n",
        "  k=k+1\n",
        "  print(\"=\"*30,k,\"- epoch\",\"=\"*30)\n",
        "    \n",
        "  #Solving Linear Equation A (Delta X) = B\n",
        "  A = np.vstack((np.hstack((np.diag(z[n:]), np.diag(z[:n]))),np.hstack((-a, np.eye(n)))))\n",
        "  B = np.vstack((((-1)*np.dot(np.diag(z[:n]),z[n:]) + (beta*np.dot(z[:n],z[n:]))/n*e).reshape(n,1),(-z[n:]+np.dot(a,z[:n])+q).reshape(n,1)))\n",
        "  delta_X = np.linalg.solve(A, B)\n",
        "\n",
        "  #---------------------------------------------------------------------------------------------------------\n",
        "  # Step2\n",
        "  #---------------------------------------------------------------------------------------------------------\n",
        "  \n",
        "  #Finding l = smallest non-negative integer then find z^{k+1}  \n",
        "  l = 0\n",
        "  while True:\n",
        "    threshold = (-1)* alpha*sigma*(1-beta)*s*rho**l\n",
        "    z_new = z + sigma*(rho**l)*delta_X.ravel()\n",
        "    \n",
        "    # If any element in X and Y are non-positive then phi(z) not calculated, proceed to next iteration\n",
        "    # If all elements in X and Y are positive (>0) then only phi(z) should be calculated \n",
        "    if (z_new>0).all() and phi(z_new)- phi(z) <= threshold :\n",
        "        z = z_new\n",
        "        break\n",
        "    else:\n",
        "      l=l+1\n",
        "  #print(\"l = \",l)\n",
        "  \n",
        "  #---------------------------------------------------------------------------------------------------------\n",
        "  # Step 3\n",
        "  #---------------------------------------------------------------------------------------------------------\n",
        "  #if (f(z)  < epsilon) and round(np.dot(z[:n],z[n:]),4)==0:\n",
        "   # print(f(z),np.round(z[:n],2),np.round(z[n:],2))\n",
        "    #break\n",
        "  #elif (np.linalg.norm(z_new - z) <epsilon) and (np.multiply(z_new[:n],z_new[n:])==1).any() :\n",
        "   # print(z_new[:n],z_new[n:])\n",
        "    #break\n",
        "  #else:\n",
        "   # print(f(z) ,epsilon)\n",
        "    #print(\" beta=\",round(beta,2),\"X=\",x,\"Y=\",y, \"-\",l,\"==\",np.dot(x_new,y_new) + np.linalg.norm(y_new - np.dot(a,x_new) - q)**2)\n",
        "        \n",
        "    #Updating beta, X, Y for next Iteration\n",
        "  beta = np.random.uniform(0,beta_bar)\n",
        "  print(\"f(z)\",f(z))\n",
        "  list1.append(f(z))\n",
        "  \n",
        "    "
      ],
      "execution_count": null,
      "outputs": [
        {
          "output_type": "stream",
          "name": "stdout",
          "text": [
            "============================== 1 - epoch ==============================\n",
            "f(z) 172.26158714291185\n",
            "============================== 2 - epoch ==============================\n",
            "f(z) 156.29245216826135\n",
            "============================== 3 - epoch ==============================\n",
            "f(z) 141.92270221805305\n",
            "============================== 4 - epoch ==============================\n",
            "f(z) 128.94056336748406\n",
            "============================== 5 - epoch ==============================\n",
            "f(z) 117.20697809512339\n",
            "============================== 6 - epoch ==============================\n",
            "f(z) 30.4272190107617\n",
            "============================== 7 - epoch ==============================\n",
            "f(z) 27.710673079487215\n",
            "============================== 8 - epoch ==============================\n",
            "f(z) 25.247409174491036\n",
            "============================== 9 - epoch ==============================\n",
            "f(z) 23.014672605580188\n",
            "============================== 10 - epoch ==============================\n",
            "f(z) 20.98820911151813\n",
            "============================== 11 - epoch ==============================\n",
            "f(z) 19.14668328857419\n",
            "============================== 12 - epoch ==============================\n",
            "f(z) 17.47482071712096\n",
            "============================== 13 - epoch ==============================\n",
            "f(z) 15.956789074592537\n",
            "============================== 14 - epoch ==============================\n",
            "f(z) 14.579257377551265\n",
            "============================== 15 - epoch ==============================\n",
            "f(z) 13.328031022279283\n",
            "============================== 16 - epoch ==============================\n",
            "f(z) 12.192425181048813\n",
            "============================== 17 - epoch ==============================\n",
            "f(z) 11.15877940807199\n",
            "============================== 18 - epoch ==============================\n",
            "f(z) 10.220740200139014\n",
            "============================== 19 - epoch ==============================\n",
            "f(z) 9.363007038485913\n",
            "============================== 20 - epoch ==============================\n",
            "f(z) 8.585658501091384\n",
            "============================== 21 - epoch ==============================\n",
            "f(z) 7.875351451249342\n",
            "============================== 22 - epoch ==============================\n",
            "f(z) 7.228024839918085\n",
            "============================== 23 - epoch ==============================\n",
            "f(z) 6.637075690794546\n",
            "============================== 24 - epoch ==============================\n",
            "f(z) 6.099790134716155\n",
            "============================== 25 - epoch ==============================\n",
            "f(z) 5.608534085466577\n",
            "============================== 26 - epoch ==============================\n",
            "f(z) 5.1608202355258115\n",
            "============================== 27 - epoch ==============================\n",
            "f(z) 4.752625463228441\n",
            "============================== 28 - epoch ==============================\n",
            "f(z) 4.378905903669361\n",
            "============================== 29 - epoch ==============================\n",
            "f(z) 4.0348978376506786\n",
            "============================== 30 - epoch ==============================\n",
            "f(z) 3.71862253011413\n",
            "============================== 31 - epoch ==============================\n",
            "f(z) 3.715689345546158\n",
            "============================== 32 - epoch ==============================\n",
            "f(z) 3.712739772247078\n",
            "============================== 33 - epoch ==============================\n",
            "f(z) 3.7127105285876456\n",
            "============================== 34 - epoch ==============================\n",
            "f(z) 3.7126813298014785\n",
            "============================== 35 - epoch ==============================\n",
            "f(z) 3.712651815296975\n",
            "============================== 36 - epoch ==============================\n",
            "f(z) 3.712648872074032\n",
            "============================== 37 - epoch ==============================\n",
            "f(z) 3.712648580020921\n",
            "============================== 38 - epoch ==============================\n",
            "f(z) 3.712648287751806\n",
            "============================== 39 - epoch ==============================\n",
            "f(z) 3.7126479929912146\n",
            "============================== 40 - epoch ==============================\n",
            "f(z) 3.7126479635984424\n",
            "============================== 41 - epoch ==============================\n",
            "f(z) 3.712647960690875\n",
            "============================== 42 - epoch ==============================\n",
            "f(z) 3.7126479577690623\n",
            "============================== 43 - epoch ==============================\n",
            "f(z) 3.7126479548458287\n",
            "============================== 44 - epoch ==============================\n",
            "f(z) 3.7126479519161046\n",
            "============================== 45 - epoch ==============================\n",
            "f(z) 3.712647951624392\n",
            "============================== 46 - epoch ==============================\n",
            "f(z) 3.7126479513309905\n",
            "============================== 47 - epoch ==============================\n",
            "f(z) 3.712647951301738\n",
            "============================== 48 - epoch ==============================\n",
            "f(z) 3.712647951298813\n",
            "============================== 49 - epoch ==============================\n",
            "f(z) 3.7126479512958968\n",
            "============================== 50 - epoch ==============================\n",
            "f(z) 3.712647951292974\n",
            "============================== 51 - epoch ==============================\n",
            "f(z) 3.7126479512900294\n",
            "============================== 52 - epoch ==============================\n",
            "f(z) 3.7126479512899997\n",
            "============================== 53 - epoch ==============================\n",
            "f(z) 3.7126479512899717\n",
            "============================== 54 - epoch ==============================\n",
            "f(z) 3.712647951289968\n",
            "============================== 55 - epoch ==============================\n",
            "f(z) 3.7126479512899646\n"
          ]
        }
      ]
    },
    {
      "cell_type": "code",
      "metadata": {
        "id": "SeKi3Ub8EBIp"
      },
      "source": [
        ""
      ],
      "execution_count": null,
      "outputs": []
    },
    {
      "cell_type": "markdown",
      "metadata": {
        "id": "l-XSqx-Trh_0"
      },
      "source": [
        "# Results"
      ]
    },
    {
      "cell_type": "code",
      "metadata": {
        "id": "AlKYDSzVrdWs",
        "colab": {
          "base_uri": "https://localhost:8080/",
          "height": 371
        },
        "outputId": "a9ac14b1-a287-433e-87d5-f9a062b21147"
      },
      "source": [
        "print(\"X = \",np.round(z[:n],2))\n",
        "print(\"Y = \",np.round(z[n:],2))\n",
        "print(\"Epochs : \",k)\n",
        "print(\"f(z) values=\",list1)\n",
        "\n",
        "x=range(1,len(list1)+1)\n",
        "fig,ax=plt.subplots()\n",
        "plt.plot(x,list1)\n",
        "ax.tick_params(axis='x', labelsize=10)\n",
        "ax.tick_params(axis='y', labelsize=10)\n",
        "plt.xlabel(\"epochs\",fontsize=\"12\")\n",
        "plt.ylabel(\"f(z)\",fontsize=\"12\")\n",
        "plt.savefig(\"Exercise-4.png\",dpi=400)\n",
        "plt.show()"
      ],
      "execution_count": null,
      "outputs": [
        {
          "output_type": "stream",
          "name": "stdout",
          "text": [
            "X =  [0.06 1.98 0.03 1.15 0.58]\n",
            "Y =  [0.19 0.1  3.99 0.16 1.89]\n",
            "Epochs :  55\n",
            "f(z) values= [172.26158714291185, 156.29245216826135, 141.92270221805305, 128.94056336748406, 117.20697809512339, 30.4272190107617, 27.710673079487215, 25.247409174491036, 23.014672605580188, 20.98820911151813, 19.14668328857419, 17.47482071712096, 15.956789074592537, 14.579257377551265, 13.328031022279283, 12.192425181048813, 11.15877940807199, 10.220740200139014, 9.363007038485913, 8.585658501091384, 7.875351451249342, 7.228024839918085, 6.637075690794546, 6.099790134716155, 5.608534085466577, 5.1608202355258115, 4.752625463228441, 4.378905903669361, 4.0348978376506786, 3.71862253011413, 3.715689345546158, 3.712739772247078, 3.7127105285876456, 3.7126813298014785, 3.712651815296975, 3.712648872074032, 3.712648580020921, 3.712648287751806, 3.7126479929912146, 3.7126479635984424, 3.712647960690875, 3.7126479577690623, 3.7126479548458287, 3.7126479519161046, 3.712647951624392, 3.7126479513309905, 3.712647951301738, 3.712647951298813, 3.7126479512958968, 3.712647951292974, 3.7126479512900294, 3.7126479512899997, 3.7126479512899717, 3.712647951289968, 3.7126479512899646]\n"
          ]
        },
        {
          "output_type": "display_data",
          "data": {
            "image/png": "[encoded data removed]",
            "text/plain": [
              "<Figure size 432x288 with 1 Axes>"
            ]
          },
          "metadata": {
            "needs_background": "light"
          }
        }
      ]
    },
    {
      "cell_type": "markdown",
      "metadata": {
        "id": "fX4QBoAxP1xZ"
      },
      "source": [
        "# Exercise-5"
      ]
    },
    {
      "cell_type": "code",
      "metadata": {
        "id": "24IWYzS6P1xa",
        "colab": {
          "base_uri": "https://localhost:8080/"
        },
        "outputId": "5488600a-4332-414e-9759-6049b01ea253"
      },
      "source": [
        "a = np.array(df.iloc[12:16,:4])\n",
        "print(a)\n",
        "q = np.array(df.iloc[12:16,4])\n"
      ],
      "execution_count": null,
      "outputs": [
        {
          "output_type": "stream",
          "name": "stdout",
          "text": [
            "[[-1.  1.  1.  1.]\n",
            " [ 1.  0.  0.  0.]\n",
            " [ 1.  0.  0. -1.]\n",
            " [ 1.  0. -1.  0.]]\n"
          ]
        }
      ]
    },
    {
      "cell_type": "markdown",
      "metadata": {
        "id": "m6Efr_NNP1xb"
      },
      "source": [
        "# Initialization of Parameters"
      ]
    },
    {
      "cell_type": "code",
      "metadata": {
        "id": "60VN-o0xEBIr",
        "colab": {
          "base_uri": "https://localhost:8080/"
        },
        "outputId": "b571f197-f758-4afd-eac2-c4caeed9c5e8"
      },
      "source": [
        "a = np.array(df.iloc[12:16,:4])\n",
        "print(a)\n",
        "q = np.array(df.iloc[12:16,4])\n",
        "n = a.shape[0]\n",
        "s = 0.9\n",
        "epsilon = 10**-4\n",
        "alpha,rho = 0.001,0.1 \n",
        "#alpha = 0.2 # random.uniform(0,1)\n",
        "beta_bar = 0.03 #random.uniform(0,0.5)   => beta_bar in [0,0.5)\n",
        "sigma = 50\n",
        "#rho = random.uniform(0,1)\n",
        "z = np.random.randint(1,10,2*n)\n",
        "e = np.ones(n)\n",
        "beta = 0.0005 #np.random.uniform(0,beta_bar)\n",
        "print(\"alpha =\",round(alpha,2),\", beta_bar =\",round(beta_bar,2),\", rho =\",round(rho,2), \n",
        "      \" s=\",s,\" sigma=\",sigma,\" rho=\",round(rho,2),\" beta\",round(beta,2))\n",
        "\n",
        "\n",
        "\n",
        "max_iter=int(input(\"Please provide the number of iterations after which x and y values are required :\"))"
      ],
      "execution_count": null,
      "outputs": [
        {
          "name": "stdout",
          "output_type": "stream",
          "text": [
            "[[-1.  1.  1.  1.]\n",
            " [ 1.  0.  0.  0.]\n",
            " [ 1.  0.  0. -1.]\n",
            " [ 1.  0. -1.  0.]]\n",
            "alpha = 0.0 , beta_bar = 0.03 , rho = 0.1  s= 0.9  sigma= 50  rho= 0.1  beta 0.0\n",
            "Please provide the number of iterations after which x and y values are required :55\n"
          ]
        }
      ]
    },
    {
      "cell_type": "markdown",
      "metadata": {
        "id": "onbAdn4lP1xc"
      },
      "source": [
        "# Algorithm"
      ]
    },
    {
      "cell_type": "code",
      "metadata": {
        "id": "XWRW7_jkP1xc",
        "colab": {
          "base_uri": "https://localhost:8080/"
        },
        "outputId": "654768d4-a5c5-4df2-db01-4a072aafeabe"
      },
      "source": [
        "#---------------------------------------------------------------------------------------------------------\n",
        "# Step1\n",
        "#---------------------------------------------------------------------------------------------------------\n",
        "\n",
        "#Func to find Phi(z)\n",
        "def phi(z):\n",
        "    x = z[:n]\n",
        "    y = z[n:]\n",
        "    return ((n+s)*np.log(np.dot(x,y) + (np.linalg.norm(y - np.dot(a,x) - q))**2)) - sum(np.log(np.multiply(x,y)))\n",
        "\n",
        "#Func to terminate \n",
        "def f(z):\n",
        "  x = z[:n]\n",
        "  y = z[n:]\n",
        "  return np.dot(x,y) + pow(np.linalg.norm(y - np.dot(a,x) - q),2)\n",
        "\n",
        "k=0\n",
        "list1=[]\n",
        "for i in range (max_iter): \n",
        "  k=k+1\n",
        "  print(\"=\"*30,k,\"- epoch\",\"=\"*30)\n",
        "    \n",
        "  #Solving Linear Equation A (Delta X) = B\n",
        "  A = np.vstack((np.hstack((np.diag(z[n:]), np.diag(z[:n]))),np.hstack((-a, np.eye(n)))))\n",
        "  B = np.vstack((((-1)*np.dot(np.diag(z[:n]),z[n:]) + (beta*np.dot(z[:n],z[n:]))/n*e).reshape(n,1),(-z[n:]+np.dot(a,z[:n])+q).reshape(n,1)))\n",
        "  delta_X = np.linalg.solve(A, B)\n",
        "\n",
        "  #---------------------------------------------------------------------------------------------------------\n",
        "  # Step2\n",
        "  #---------------------------------------------------------------------------------------------------------\n",
        "  \n",
        "  #Finding l = smallest non-negative integer then find z^{k+1}  \n",
        "  l = 0\n",
        "  while True:\n",
        "    threshold = (-1)* alpha*sigma*(1-beta)*s*rho**l\n",
        "    z_new = z + sigma*(rho**l)*delta_X.ravel()\n",
        "    \n",
        "    # If any element in X and Y are non-positive then phi(z) not calculated, proceed to next iteration\n",
        "    # If all elements in X and Y are positive (>0) then only phi(z) should be calculated \n",
        "    if (z_new>0).all() and phi(z_new)- phi(z) <= threshold :\n",
        "        z = z_new\n",
        "        break\n",
        "    else:\n",
        "      l=l+1\n",
        "  #print(\"l = \",l)\n",
        "  \n",
        "  #---------------------------------------------------------------------------------------------------------\n",
        "  # Step 3\n",
        "  #---------------------------------------------------------------------------------------------------------\n",
        "  #if (f(z)  < epsilon) and round(np.dot(z[:n],z[n:]),4)==0:\n",
        "   # print(f(z),np.round(z[:n],2),np.round(z[n:],2))\n",
        "    #break\n",
        "  #elif (np.linalg.norm(z_new - z) <epsilon) and (np.multiply(z_new[:n],z_new[n:])==1).any() :\n",
        "   # print(z_new[:n],z_new[n:])\n",
        "    #break\n",
        "  #else:\n",
        "   # print(f(z) ,epsilon)\n",
        "    #print(\" beta=\",round(beta,2),\"X=\",x,\"Y=\",y, \"-\",l,\"==\",np.dot(x_new,y_new) + np.linalg.norm(y_new - np.dot(a,x_new) - q)**2)\n",
        "        \n",
        "    #Updating beta, X, Y for next Iteration\n",
        "  beta = np.random.uniform(0,beta_bar)\n",
        "  print(\"f(z)\",f(z))\n",
        "  list1.append(f(z))"
      ],
      "execution_count": null,
      "outputs": [
        {
          "output_type": "stream",
          "name": "stdout",
          "text": [
            "============================== 1 - epoch ==============================\n",
            "f(z) 44.46696524567913\n",
            "============================== 2 - epoch ==============================\n",
            "f(z) 17.63507431199999\n",
            "============================== 3 - epoch ==============================\n",
            "f(z) 8.087769121606762\n",
            "============================== 4 - epoch ==============================\n",
            "f(z) 4.045689932048321\n",
            "============================== 5 - epoch ==============================\n",
            "f(z) 2.165636490903386\n",
            "============================== 6 - epoch ==============================\n",
            "f(z) 1.197102694174683\n",
            "============================== 7 - epoch ==============================\n",
            "f(z) 0.6589625962772792\n",
            "============================== 8 - epoch ==============================\n",
            "f(z) 0.3650156331926325\n",
            "============================== 9 - epoch ==============================\n",
            "f(z) 0.20098649422211828\n",
            "============================== 10 - epoch ==============================\n",
            "f(z) 0.11290281956411188\n",
            "============================== 11 - epoch ==============================\n",
            "f(z) 0.06250418999219526\n",
            "============================== 12 - epoch ==============================\n",
            "f(z) 0.034188344326656885\n",
            "============================== 13 - epoch ==============================\n",
            "f(z) 0.018778815614628568\n",
            "============================== 14 - epoch ==============================\n",
            "f(z) 0.010419813746372941\n",
            "============================== 15 - epoch ==============================\n",
            "f(z) 0.005750117947081016\n",
            "============================== 16 - epoch ==============================\n",
            "f(z) 0.0031642897955387237\n",
            "============================== 17 - epoch ==============================\n",
            "f(z) 0.0017492978188269927\n",
            "============================== 18 - epoch ==============================\n",
            "f(z) 0.0009814528780117454\n",
            "============================== 19 - epoch ==============================\n",
            "f(z) 0.000551259809267634\n",
            "============================== 20 - epoch ==============================\n",
            "f(z) 0.0003055185827319314\n",
            "============================== 21 - epoch ==============================\n",
            "f(z) 0.00017107826778397231\n",
            "============================== 22 - epoch ==============================\n",
            "f(z) 9.502560355665088e-05\n",
            "============================== 23 - epoch ==============================\n",
            "f(z) 5.241700709494326e-05\n",
            "============================== 24 - epoch ==============================\n",
            "f(z) 2.909528097627075e-05\n",
            "============================== 25 - epoch ==============================\n",
            "f(z) 1.6466514091200668e-05\n",
            "============================== 26 - epoch ==============================\n",
            "f(z) 9.10778056377596e-06\n",
            "============================== 27 - epoch ==============================\n",
            "f(z) 5.108460197111869e-06\n",
            "============================== 28 - epoch ==============================\n",
            "f(z) 2.8834134433546315e-06\n",
            "============================== 29 - epoch ==============================\n",
            "f(z) 1.6133995875446724e-06\n",
            "============================== 30 - epoch ==============================\n",
            "f(z) 8.939032721919909e-07\n",
            "============================== 31 - epoch ==============================\n",
            "f(z) 5.053127880271972e-07\n",
            "============================== 32 - epoch ==============================\n",
            "f(z) 2.8570590422066e-07\n",
            "============================== 33 - epoch ==============================\n",
            "f(z) 1.604332828134994e-07\n",
            "============================== 34 - epoch ==============================\n",
            "f(z) 9.040640609230932e-08\n",
            "============================== 35 - epoch ==============================\n",
            "f(z) 5.076141777702285e-08\n",
            "============================== 36 - epoch ==============================\n",
            "f(z) 2.8475739811026046e-08\n",
            "============================== 37 - epoch ==============================\n",
            "f(z) 1.6122096201480105e-08\n",
            "============================== 38 - epoch ==============================\n",
            "f(z) 9.124078331668973e-09\n",
            "============================== 39 - epoch ==============================\n",
            "f(z) 5.183867590205398e-09\n",
            "============================== 40 - epoch ==============================\n",
            "f(z) 2.9061834586367167e-09\n",
            "============================== 41 - epoch ==============================\n",
            "f(z) 1.618969132295209e-09\n",
            "============================== 42 - epoch ==============================\n",
            "f(z) 9.14152643782885e-10\n",
            "============================== 43 - epoch ==============================\n",
            "f(z) 5.166511518273228e-10\n",
            "============================== 44 - epoch ==============================\n",
            "f(z) 2.8948495648400515e-10\n",
            "============================== 45 - epoch ==============================\n",
            "f(z) 1.6306570604693793e-10\n",
            "============================== 46 - epoch ==============================\n",
            "f(z) 9.272581553440626e-11\n",
            "============================== 47 - epoch ==============================\n",
            "f(z) 5.2030704913115456e-11\n",
            "============================== 48 - epoch ==============================\n",
            "f(z) 2.928024294378399e-11\n",
            "============================== 49 - epoch ==============================\n",
            "f(z) 1.6408522496178097e-11\n",
            "============================== 50 - epoch ==============================\n",
            "f(z) 9.284413407497732e-12\n",
            "============================== 51 - epoch ==============================\n",
            "f(z) 5.227176743273465e-12\n",
            "============================== 52 - epoch ==============================\n",
            "f(z) 2.9754256279558874e-12\n",
            "============================== 53 - epoch ==============================\n",
            "f(z) 1.6558789006948079e-12\n",
            "============================== 54 - epoch ==============================\n",
            "f(z) 9.303858818778294e-13\n",
            "============================== 55 - epoch ==============================\n",
            "f(z) 5.294514201611268e-13\n"
          ]
        }
      ]
    },
    {
      "cell_type": "code",
      "metadata": {
        "id": "p8klEdoyP1xd",
        "colab": {
          "base_uri": "https://localhost:8080/",
          "height": 370
        },
        "outputId": "25469399-8227-4177-ee0e-1eedb88a4bdc"
      },
      "source": [
        "print(\"X = \",np.round(z[:n],2))\n",
        "print(\"Y = \",np.round(z[n:],2))\n",
        "print(\"Epochs : \",k)\n",
        "print(\"f(z) values=\",list1)\n",
        "\n",
        "x=range(1,len(list1)+1)\n",
        "fig,ax=plt.subplots()\n",
        "plt.plot(x,list1)\n",
        "ax.tick_params(axis='x', labelsize=8)\n",
        "ax.tick_params(axis='y', labelsize=8)\n",
        "plt.xlabel(\"epochs\",fontsize=\"12\")\n",
        "plt.ylabel(\"f(z)\",fontsize=\"12\")\n",
        "plt.savefig(\"Exercise-5.png\",dpi=400)\n",
        "plt.show()"
      ],
      "execution_count": null,
      "outputs": [
        {
          "output_type": "stream",
          "name": "stdout",
          "text": [
            "X =  [1. 0. 2. 0.]\n",
            "Y =  [0. 2. 0. 0.]\n",
            "Epochs :  55\n",
            "f(z) values= [44.46696524567913, 17.63507431199999, 8.087769121606762, 4.045689932048321, 2.165636490903386, 1.197102694174683, 0.6589625962772792, 0.3650156331926325, 0.20098649422211828, 0.11290281956411188, 0.06250418999219526, 0.034188344326656885, 0.018778815614628568, 0.010419813746372941, 0.005750117947081016, 0.0031642897955387237, 0.0017492978188269927, 0.0009814528780117454, 0.000551259809267634, 0.0003055185827319314, 0.00017107826778397231, 9.502560355665088e-05, 5.241700709494326e-05, 2.909528097627075e-05, 1.6466514091200668e-05, 9.10778056377596e-06, 5.108460197111869e-06, 2.8834134433546315e-06, 1.6133995875446724e-06, 8.939032721919909e-07, 5.053127880271972e-07, 2.8570590422066e-07, 1.604332828134994e-07, 9.040640609230932e-08, 5.076141777702285e-08, 2.8475739811026046e-08, 1.6122096201480105e-08, 9.124078331668973e-09, 5.183867590205398e-09, 2.9061834586367167e-09, 1.618969132295209e-09, 9.14152643782885e-10, 5.166511518273228e-10, 2.8948495648400515e-10, 1.6306570604693793e-10, 9.272581553440626e-11, 5.2030704913115456e-11, 2.928024294378399e-11, 1.6408522496178097e-11, 9.284413407497732e-12, 5.227176743273465e-12, 2.9754256279558874e-12, 1.6558789006948079e-12, 9.303858818778294e-13, 5.294514201611268e-13]\n"
          ]
        },
        {
          "output_type": "display_data",
          "data": {
            "image/png": "[encoded data removed]",
            "text/plain": [
              "<Figure size 432x288 with 1 Axes>"
            ]
          },
          "metadata": {
            "needs_background": "light"
          }
        }
      ]
    },
    {
      "cell_type": "markdown",
      "metadata": {
        "id": "67t2wO--P1xd"
      },
      "source": [
        "# Exercise-6"
      ]
    },
    {
      "cell_type": "code",
      "metadata": {
        "id": "arcOjgmfP1xd",
        "colab": {
          "base_uri": "https://localhost:8080/"
        },
        "outputId": "553e9b38-b35c-4210-b04c-c49b8b266b67"
      },
      "source": [
        "a = np.array(df.iloc[17:20,:3])\n",
        "print(a,end=\"\\n\\n\")\n",
        "q = np.array(df.iloc[17:20,3])\n",
        "print(q)"
      ],
      "execution_count": null,
      "outputs": [
        {
          "output_type": "stream",
          "name": "stdout",
          "text": [
            "[[ 1. -2.  0.]\n",
            " [ 0.  1. -2.]\n",
            " [-2.  0.  1.]]\n",
            "\n",
            "[-1.  1.  7.]\n"
          ]
        }
      ]
    },
    {
      "cell_type": "markdown",
      "metadata": {
        "id": "MVC-uuciP1xd"
      },
      "source": [
        "# Initialization of Parameters"
      ]
    },
    {
      "cell_type": "code",
      "metadata": {
        "id": "lG8OTg83EBIu",
        "colab": {
          "base_uri": "https://localhost:8080/"
        },
        "outputId": "f2060b8e-8ecf-45c6-b4c6-d96ce2454ce3"
      },
      "source": [
        "a = np.array(df.iloc[17:20,:3])\n",
        "print(a)\n",
        "q = np.array(df.iloc[17:20,3])\n",
        "n = a.shape[0]\n",
        "s = 0.9\n",
        "epsilon = 10**-4\n",
        "alpha,rho = 0.001,0.1 \n",
        "#alpha = 0.2 # random.uniform(0,1)\n",
        "beta_bar = 0.03 #random.uniform(0,0.5)   => beta_bar in [0,0.5)\n",
        "sigma = 50\n",
        "#rho = random.uniform(0,1)\n",
        "z = np.random.randint(1,10,2*n)\n",
        "e = np.ones(n)\n",
        "beta = 0.0005 #np.random.uniform(0,beta_bar)\n",
        "print(\"alpha =\",round(alpha,2),\", beta_bar =\",round(beta_bar,2),\", rho =\",round(rho,2), \n",
        "      \" s=\",s,\" sigma=\",sigma,\" rho=\",round(rho,2),\" beta\",round(beta,2))\n",
        "\n",
        "\n",
        "\n",
        "\n",
        "max_iter=int(input(\"Please provide the number of iterations after which x and y values are required :\"))\n",
        "\n"
      ],
      "execution_count": null,
      "outputs": [
        {
          "name": "stdout",
          "output_type": "stream",
          "text": [
            "[[ 1. -2.  0.]\n",
            " [ 0.  1. -2.]\n",
            " [-2.  0.  1.]]\n",
            "alpha = 0.0 , beta_bar = 0.03 , rho = 0.1  s= 0.9  sigma= 50  rho= 0.1  beta 0.0\n",
            "Please provide the number of iterations after which x and y values are required :55\n"
          ]
        }
      ]
    },
    {
      "cell_type": "markdown",
      "metadata": {
        "id": "UcPFIWUhP1xe"
      },
      "source": [
        "# Algorithm"
      ]
    },
    {
      "cell_type": "code",
      "metadata": {
        "id": "XQDdvzZ1P1xe",
        "colab": {
          "base_uri": "https://localhost:8080/"
        },
        "outputId": "7067fb4e-99c0-469c-f35b-c422ecc6abaf"
      },
      "source": [
        "#---------------------------------------------------------------------------------------------------------\n",
        "# Step1\n",
        "#---------------------------------------------------------------------------------------------------------\n",
        "\n",
        "#Func to find Phi(z)\n",
        "def phi(z):\n",
        "    x = z[:n]\n",
        "    y = z[n:]\n",
        "    return ((n+s)*np.log(np.dot(x,y) + (np.linalg.norm(y - np.dot(a,x) - q))**2)) - sum(np.log(np.multiply(x,y)))\n",
        "\n",
        "#Func to terminate \n",
        "def f(z):\n",
        "  x = z[:n]\n",
        "  y = z[n:]\n",
        "  return np.dot(x,y) + pow(np.linalg.norm(y - np.dot(a,x) - q),2)\n",
        "\n",
        "k=0\n",
        "list1=[]\n",
        "for i in range (max_iter): \n",
        "  k=k+1\n",
        "  print(\"=\"*30,k,\"- epoch\",\"=\"*30)\n",
        "    \n",
        "  #Solving Linear Equation A (Delta X) = B\n",
        "  A = np.vstack((np.hstack((np.diag(z[n:]), np.diag(z[:n]))),np.hstack((-a, np.eye(n)))))\n",
        "  B = np.vstack((((-1)*np.dot(np.diag(z[:n]),z[n:]) + (beta*np.dot(z[:n],z[n:]))/n*e).reshape(n,1),(-z[n:]+np.dot(a,z[:n])+q).reshape(n,1)))\n",
        "  delta_X = np.linalg.solve(A, B)\n",
        "\n",
        "  #---------------------------------------------------------------------------------------------------------\n",
        "  # Step2\n",
        "  #---------------------------------------------------------------------------------------------------------\n",
        "  \n",
        "  #Finding l = smallest non-negative integer then find z^{k+1}  \n",
        "  l = 0\n",
        "  while True:\n",
        "    threshold = (-1)* alpha*sigma*(1-beta)*s*rho**l\n",
        "    z_new = z + sigma*(rho**l)*delta_X.ravel()\n",
        "    \n",
        "    # If any element in X and Y are non-positive then phi(z) not calculated, proceed to next iteration\n",
        "    # If all elements in X and Y are positive (>0) then only phi(z) should be calculated \n",
        "    if (z_new>0).all() and phi(z_new)- phi(z) <= threshold :\n",
        "        z = z_new\n",
        "        break\n",
        "    else:\n",
        "      l=l+1\n",
        "  #print(\"l = \",l)\n",
        "  \n",
        "  #---------------------------------------------------------------------------------------------------------\n",
        "  # Step 3\n",
        "  #---------------------------------------------------------------------------------------------------------\n",
        "  #if (f(z)  < epsilon) and round(np.dot(z[:n],z[n:]),4)==0:\n",
        "   # print(f(z),np.round(z[:n],2),np.round(z[n:],2))\n",
        "    #break\n",
        "  #elif (np.linalg.norm(z_new - z) <epsilon) and (np.multiply(z_new[:n],z_new[n:])==1).any() :\n",
        "   # print(z_new[:n],z_new[n:])\n",
        "    #break\n",
        "  #else:\n",
        "   # print(f(z) ,epsilon)\n",
        "    #print(\" beta=\",round(beta,2),\"X=\",x,\"Y=\",y, \"-\",l,\"==\",np.dot(x_new,y_new) + np.linalg.norm(y_new - np.dot(a,x_new) - q)**2)\n",
        "        \n",
        "    #Updating beta, X, Y for next Iteration\n",
        "  beta = np.random.uniform(0,beta_bar)\n",
        "  print(\"f(z)\",f(z))\n",
        "  list1.append(f(z))"
      ],
      "execution_count": null,
      "outputs": [
        {
          "output_type": "stream",
          "name": "stdout",
          "text": [
            "============================== 1 - epoch ==============================\n",
            "f(z) 494.06012222124775\n",
            "============================== 2 - epoch ==============================\n",
            "f(z) 449.6679028802888\n",
            "============================== 3 - epoch ==============================\n",
            "f(z) 409.3187889199602\n",
            "============================== 4 - epoch ==============================\n",
            "f(z) 372.043196593868\n",
            "============================== 5 - epoch ==============================\n",
            "f(z) 368.635995573311\n",
            "============================== 6 - epoch ==============================\n",
            "f(z) 368.2981839957025\n",
            "============================== 7 - epoch ==============================\n",
            "f(z) 367.94240478333654\n",
            "============================== 8 - epoch ==============================\n",
            "f(z) 367.60553098134966\n",
            "============================== 9 - epoch ==============================\n",
            "f(z) 367.25324391807794\n",
            "============================== 10 - epoch ==============================\n",
            "f(z) 366.91617189588555\n",
            "============================== 11 - epoch ==============================\n",
            "f(z) 366.8822368230585\n",
            "============================== 12 - epoch ==============================\n",
            "f(z) 366.8818962137235\n",
            "============================== 13 - epoch ==============================\n",
            "f(z) 366.8818621298467\n",
            "============================== 14 - epoch ==============================\n",
            "f(z) 366.88185873791736\n",
            "============================== 15 - epoch ==============================\n",
            "f(z) 366.88185870222213\n",
            "============================== 16 - epoch ==============================\n",
            "f(z) 366.88185834149226\n",
            "============================== 17 - epoch ==============================\n",
            "f(z) 366.8818547682829\n",
            "============================== 18 - epoch ==============================\n",
            "f(z) 366.88181868709694\n",
            "============================== 19 - epoch ==============================\n",
            "f(z) 366.8814630676601\n",
            "============================== 20 - epoch ==============================\n",
            "f(z) 366.88112758099226\n",
            "============================== 21 - epoch ==============================\n",
            "f(z) 366.880780238692\n",
            "============================== 22 - epoch ==============================\n",
            "f(z) 366.88044008739473\n",
            "============================== 23 - epoch ==============================\n",
            "f(z) 366.88040507469674\n",
            "============================== 24 - epoch ==============================\n",
            "f(z) 366.8803712965995\n",
            "============================== 25 - epoch ==============================\n",
            "f(z) 366.880367786931\n",
            "============================== 26 - epoch ==============================\n",
            "f(z) 366.88036441448105\n",
            "============================== 27 - epoch ==============================\n",
            "f(z) 366.880364073472\n",
            "============================== 28 - epoch ==============================\n",
            "f(z) 366.88036403957125\n",
            "============================== 29 - epoch ==============================\n",
            "f(z) 366.880364039225\n",
            "============================== 30 - epoch ==============================\n",
            "f(z) 366.8803640388833\n",
            "============================== 31 - epoch ==============================\n",
            "f(z) 366.88036403884973\n",
            "============================== 32 - epoch ==============================\n",
            "f(z) 366.88036403881426\n",
            "============================== 33 - epoch ==============================\n",
            "f(z) 366.8803640387808\n",
            "============================== 34 - epoch ==============================\n",
            "f(z) 366.8803640387448\n",
            "============================== 35 - epoch ==============================\n",
            "f(z) 366.88036403838726\n",
            "============================== 36 - epoch ==============================\n",
            "f(z) 366.88036403478986\n",
            "============================== 37 - epoch ==============================\n",
            "f(z) 366.8803639991646\n",
            "============================== 38 - epoch ==============================\n",
            "f(z) 366.88036363441614\n",
            "============================== 39 - epoch ==============================\n",
            "f(z) 366.8803601100348\n",
            "============================== 40 - epoch ==============================\n",
            "f(z) 366.8803567439752\n",
            "============================== 41 - epoch ==============================\n",
            "f(z) 366.8803564080047\n",
            "============================== 42 - epoch ==============================\n",
            "f(z) 366.8803560556934\n",
            "============================== 43 - epoch ==============================\n",
            "f(z) 366.88035571908415\n",
            "============================== 44 - epoch ==============================\n",
            "f(z) 366.8803556854307\n",
            "============================== 45 - epoch ==============================\n",
            "f(z) 366.8803556490453\n",
            "============================== 46 - epoch ==============================\n",
            "f(z) 366.88035529677387\n",
            "============================== 47 - epoch ==============================\n",
            "f(z) 366.880354960291\n",
            "============================== 48 - epoch ==============================\n",
            "f(z) 366.8803549265306\n",
            "============================== 49 - epoch ==============================\n",
            "f(z) 366.88035492619423\n",
            "============================== 50 - epoch ==============================\n",
            "f(z) 366.88035492583765\n",
            "============================== 51 - epoch ==============================\n",
            "f(z) 366.88035492220484\n",
            "============================== 52 - epoch ==============================\n",
            "f(z) 366.88035488693174\n",
            "============================== 53 - epoch ==============================\n",
            "f(z) 366.8803548532959\n",
            "============================== 54 - epoch ==============================\n",
            "f(z) 366.88035484993515\n",
            "============================== 55 - epoch ==============================\n",
            "f(z) 366.8803548496\n"
          ]
        }
      ]
    },
    {
      "cell_type": "code",
      "metadata": {
        "id": "rXjDN8K_P1xf",
        "colab": {
          "base_uri": "https://localhost:8080/",
          "height": 373
        },
        "outputId": "293fba21-5bcf-4672-b61c-53ed26c2998c"
      },
      "source": [
        "print(\"X = \",np.round(z[:n],2))\n",
        "print(\"Y = \",np.round(z[n:],2))\n",
        "print(\"Epochs : \",k)\n",
        "print(\"f(z) values=\",list1)\n",
        "\n",
        "x=range(1,len(list1)+1)\n",
        "fig,ax=plt.subplots()\n",
        "plt.plot(x,list1)\n",
        "ax.tick_params(axis='x', labelsize=8)\n",
        "ax.tick_params(axis='y', labelsize=8)\n",
        "plt.xlabel(\"epochs\",fontsize=\"12\")\n",
        "plt.ylabel(\"f(z)\",fontsize=\"12\")\n",
        "plt.savefig(\"Exercise-6.png\",dpi=400)\n",
        "plt.show()"
      ],
      "execution_count": null,
      "outputs": [
        {
          "output_type": "stream",
          "name": "stdout",
          "text": [
            "X =  [2.96 7.98 3.27]\n",
            "Y =  [2.98 5.66 4.36]\n",
            "Epochs :  55\n",
            "f(z) values= [494.06012222124775, 449.6679028802888, 409.3187889199602, 372.043196593868, 368.635995573311, 368.2981839957025, 367.94240478333654, 367.60553098134966, 367.25324391807794, 366.91617189588555, 366.8822368230585, 366.8818962137235, 366.8818621298467, 366.88185873791736, 366.88185870222213, 366.88185834149226, 366.8818547682829, 366.88181868709694, 366.8814630676601, 366.88112758099226, 366.880780238692, 366.88044008739473, 366.88040507469674, 366.8803712965995, 366.880367786931, 366.88036441448105, 366.880364073472, 366.88036403957125, 366.880364039225, 366.8803640388833, 366.88036403884973, 366.88036403881426, 366.8803640387808, 366.8803640387448, 366.88036403838726, 366.88036403478986, 366.8803639991646, 366.88036363441614, 366.8803601100348, 366.8803567439752, 366.8803564080047, 366.8803560556934, 366.88035571908415, 366.8803556854307, 366.8803556490453, 366.88035529677387, 366.880354960291, 366.8803549265306, 366.88035492619423, 366.88035492583765, 366.88035492220484, 366.88035488693174, 366.8803548532959, 366.88035484993515, 366.8803548496]\n"
          ]
        },
        {
          "output_type": "display_data",
          "data": {
            "image/png": "[encoded data removed]",
            "text/plain": [
              "<Figure size 432x288 with 1 Axes>"
            ]
          },
          "metadata": {
            "needs_background": "light"
          }
        }
      ]
    },
    {
      "cell_type": "markdown",
      "metadata": {
        "id": "_uZrYz0dP1xj"
      },
      "source": [
        "# Exercise-7"
      ]
    },
    {
      "cell_type": "code",
      "metadata": {
        "id": "XG5m47ZYP1xk",
        "colab": {
          "base_uri": "https://localhost:8080/"
        },
        "outputId": "5fc17511-6bc3-46de-87ac-79f634769d45"
      },
      "source": [
        "a = np.array(df.iloc[21:24,:3])\n",
        "print(a,end=\"\\n\\n\")\n",
        "q = np.array(df.iloc[21:24,3])\n",
        "print(q)"
      ],
      "execution_count": null,
      "outputs": [
        {
          "output_type": "stream",
          "name": "stdout",
          "text": [
            "[[-1.    2.    1.  ]\n",
            " [ 1.   -0.5  -0.25]\n",
            " [-0.5  -1.   -1.  ]]\n",
            "\n",
            "[-0.25 -0.1   3.  ]\n"
          ]
        }
      ]
    },
    {
      "cell_type": "markdown",
      "metadata": {
        "id": "HxUte4lcP1xk"
      },
      "source": [
        "# Initialization of Parameters"
      ]
    },
    {
      "cell_type": "code",
      "metadata": {
        "id": "xS2_Q1sHP1xk",
        "colab": {
          "base_uri": "https://localhost:8080/"
        },
        "outputId": "bf6ba97f-ce7e-476a-a3a9-095a2093aa79"
      },
      "source": [
        "\n",
        "a = np.array(df.iloc[21:24,:3])\n",
        "print(a)\n",
        "q = np.array(df.iloc[21:24,3])\n",
        "n = a.shape[0]\n",
        "s = 0.9\n",
        "epsilon = 10**-4\n",
        "alpha,rho = 0.001,0.1 \n",
        "#alpha = 0.2 # random.uniform(0,1)\n",
        "beta_bar = 0.03 #random.uniform(0,0.5)   => beta_bar in [0,0.5)\n",
        "sigma = 50\n",
        "#rho = random.uniform(0,1)\n",
        "z = np.random.randint(1,10,2*n)\n",
        "e = np.ones(n)\n",
        "beta = 0.0005 #np.random.uniform(0,beta_bar)\n",
        "print(\"alpha =\",round(alpha,2),\", beta_bar =\",round(beta_bar,2),\", rho =\",round(rho,2), \n",
        "      \" s=\",s,\" sigma=\",sigma,\" rho=\",round(rho,2),\" beta\",round(beta,2))\n",
        "\n",
        "max_iter=int(input(\"Please provide the number of iterations after which x and y values are required :\"))\n"
      ],
      "execution_count": null,
      "outputs": [
        {
          "name": "stdout",
          "output_type": "stream",
          "text": [
            "[[-1.    2.    1.  ]\n",
            " [ 1.   -0.5  -0.25]\n",
            " [-0.5  -1.   -1.  ]]\n",
            "alpha = 0.0 , beta_bar = 0.03 , rho = 0.1  s= 0.9  sigma= 50  rho= 0.1  beta 0.0\n",
            "Please provide the number of iterations after which x and y values are required :45\n"
          ]
        }
      ]
    },
    {
      "cell_type": "code",
      "metadata": {
        "id": "xfL5YRUNP1xl",
        "colab": {
          "base_uri": "https://localhost:8080/"
        },
        "outputId": "31a4f05f-2ed9-4f38-de63-2a2e063321b5"
      },
      "source": [
        "#---------------------------------------------------------------------------------------------------------\n",
        "# Step1\n",
        "#---------------------------------------------------------------------------------------------------------\n",
        "\n",
        "#Func to find Phi(z)\n",
        "def phi(z):\n",
        "    x = z[:n]\n",
        "    y = z[n:]\n",
        "    return ((n+s)*np.log(np.dot(x,y) + (np.linalg.norm(y - np.dot(a,x) - q))**2)) - sum(np.log(np.multiply(x,y)))\n",
        "\n",
        "#Func to terminate \n",
        "def f(z):\n",
        "  x = z[:n]\n",
        "  y = z[n:]\n",
        "  return np.dot(x,y) + pow(np.linalg.norm(y - np.dot(a,x) - q),2)\n",
        "\n",
        "k=0\n",
        "list1=[]\n",
        "for i in range (max_iter): \n",
        "  k=k+1\n",
        "  print(\"=\"*30,k,\"- epoch\",\"=\"*30)\n",
        "    \n",
        "  #Solving Linear Equation A (Delta X) = B\n",
        "  A = np.vstack((np.hstack((np.diag(z[n:]), np.diag(z[:n]))),np.hstack((-a, np.eye(n)))))\n",
        "  B = np.vstack((((-1)*np.dot(np.diag(z[:n]),z[n:]) + (beta*np.dot(z[:n],z[n:]))/n*e).reshape(n,1),(-z[n:]+np.dot(a,z[:n])+q).reshape(n,1)))\n",
        "  delta_X = np.linalg.solve(A, B)\n",
        "\n",
        "  #---------------------------------------------------------------------------------------------------------\n",
        "  # Step2\n",
        "  #---------------------------------------------------------------------------------------------------------\n",
        "  \n",
        "  #Finding l = smallest non-negative integer then find z^{k+1}  \n",
        "  l = 0\n",
        "  while True:\n",
        "    threshold = (-1)* alpha*sigma*(1-beta)*s*rho**l\n",
        "    z_new = z + sigma*(rho**l)*delta_X.ravel()\n",
        "    \n",
        "    # If any element in X and Y are non-positive then phi(z) not calculated, proceed to next iteration\n",
        "    # If all elements in X and Y are positive (>0) then only phi(z) should be calculated \n",
        "    if (z_new>0).all() and phi(z_new)- phi(z) <= threshold :\n",
        "        z = z_new\n",
        "        break\n",
        "    else:\n",
        "      l=l+1\n",
        "  #print(\"l = \",l)\n",
        "  \n",
        "  #---------------------------------------------------------------------------------------------------------\n",
        "  # Step 3\n",
        "  #---------------------------------------------------------------------------------------------------------\n",
        "  #if (f(z)  < epsilon) and round(np.dot(z[:n],z[n:]),4)==0:\n",
        "   # print(f(z),np.round(z[:n],2),np.round(z[n:],2))\n",
        "    #break\n",
        "  #elif (np.linalg.norm(z_new - z) <epsilon) and (np.multiply(z_new[:n],z_new[n:])==1).any() :\n",
        "   # print(z_new[:n],z_new[n:])\n",
        "    #break\n",
        "  #else:\n",
        "   # print(f(z) ,epsilon)\n",
        "    #print(\" beta=\",round(beta,2),\"X=\",x,\"Y=\",y, \"-\",l,\"==\",np.dot(x_new,y_new) + np.linalg.norm(y_new - np.dot(a,x_new) - q)**2)\n",
        "        \n",
        "    #Updating beta, X, Y for next Iteration\n",
        "  beta = np.random.uniform(0,beta_bar)\n",
        "  print(\"f(z)\",f(z))\n",
        "  list1.append(f(z))"
      ],
      "execution_count": null,
      "outputs": [
        {
          "output_type": "stream",
          "name": "stdout",
          "text": [
            "============================== 1 - epoch ==============================\n",
            "f(z) 140.208373466164\n",
            "============================== 2 - epoch ==============================\n",
            "f(z) 128.54477693022525\n",
            "============================== 3 - epoch ==============================\n",
            "f(z) 117.92672546080186\n",
            "============================== 4 - epoch ==============================\n",
            "f(z) 108.25590678608867\n",
            "============================== 5 - epoch ==============================\n",
            "f(z) 99.4327495707261\n",
            "============================== 6 - epoch ==============================\n",
            "f(z) 91.40517423611368\n",
            "============================== 7 - epoch ==============================\n",
            "f(z) 84.06350392095882\n",
            "============================== 8 - epoch ==============================\n",
            "f(z) 77.36146826986713\n",
            "============================== 9 - epoch ==============================\n",
            "f(z) 71.1866483081057\n",
            "============================== 10 - epoch ==============================\n",
            "f(z) 65.06078785167422\n",
            "============================== 11 - epoch ==============================\n",
            "f(z) 59.95101581730886\n",
            "============================== 12 - epoch ==============================\n",
            "f(z) 55.024970321592505\n",
            "============================== 13 - epoch ==============================\n",
            "f(z) 50.705040025555405\n",
            "============================== 14 - epoch ==============================\n",
            "f(z) 50.70085350359866\n",
            "============================== 15 - epoch ==============================\n",
            "f(z) 50.696831967947254\n",
            "============================== 16 - epoch ==============================\n",
            "f(z) 50.696390580215564\n",
            "============================== 17 - epoch ==============================\n",
            "f(z) 50.692165475837314\n",
            "============================== 18 - epoch ==============================\n",
            "f(z) 50.688161869016554\n",
            "============================== 19 - epoch ==============================\n",
            "f(z) 50.68775899418455\n",
            "============================== 20 - epoch ==============================\n",
            "f(z) 50.687758582007795\n",
            "============================== 21 - epoch ==============================\n",
            "f(z) 50.68775816773336\n",
            "============================== 22 - epoch ==============================\n",
            "f(z) 50.68775776004976\n",
            "============================== 23 - epoch ==============================\n",
            "f(z) 50.687757315433814\n",
            "============================== 24 - epoch ==============================\n",
            "f(z) 50.68775311859449\n",
            "============================== 25 - epoch ==============================\n",
            "f(z) 50.68774910441676\n",
            "============================== 26 - epoch ==============================\n",
            "f(z) 50.68774910035046\n",
            "============================== 27 - epoch ==============================\n",
            "f(z) 50.68774909587465\n",
            "============================== 28 - epoch ==============================\n",
            "f(z) 50.687749054013196\n",
            "============================== 29 - epoch ==============================\n",
            "f(z) 50.687749013835365\n",
            "============================== 30 - epoch ==============================\n",
            "f(z) 50.68774901379505\n",
            "============================== 31 - epoch ==============================\n",
            "f(z) 50.687749013794615\n",
            "============================== 32 - epoch ==============================\n",
            "f(z) 50.687749013794225\n",
            "============================== 33 - epoch ==============================\n",
            "f(z) 50.687749013794225\n",
            "============================== 34 - epoch ==============================\n",
            "f(z) 50.687749013794225\n",
            "============================== 35 - epoch ==============================\n",
            "f(z) 50.687749013794225\n",
            "============================== 36 - epoch ==============================\n",
            "f(z) 50.687749013794225\n",
            "============================== 37 - epoch ==============================\n",
            "f(z) 50.687749013794225\n",
            "============================== 38 - epoch ==============================\n",
            "f(z) 50.687749013794225\n",
            "============================== 39 - epoch ==============================\n",
            "f(z) 50.687749013794225\n",
            "============================== 40 - epoch ==============================\n",
            "f(z) 50.687749013794225\n",
            "============================== 41 - epoch ==============================\n",
            "f(z) 50.687749013794225\n",
            "============================== 42 - epoch ==============================\n",
            "f(z) 50.687749013794225\n",
            "============================== 43 - epoch ==============================\n",
            "f(z) 50.687749013794225\n",
            "============================== 44 - epoch ==============================\n",
            "f(z) 50.687749013794225\n",
            "============================== 45 - epoch ==============================\n",
            "f(z) 50.687749013794225\n"
          ]
        }
      ]
    },
    {
      "cell_type": "code",
      "metadata": {
        "id": "xsBGlbxLP1xl",
        "colab": {
          "base_uri": "https://localhost:8080/",
          "height": 370
        },
        "outputId": "1ac6bd25-edd5-41bd-b22d-a17a30142526"
      },
      "source": [
        "print(\"X = \",np.round(z[:n],2))\n",
        "print(\"Y = \",np.round(z[n:],2))\n",
        "print(\"Epochs : \",k)\n",
        "print(\"f(z) values=\",list1)\n",
        "\n",
        "x=range(1,len(list1)+1)\n",
        "fig,ax=plt.subplots()\n",
        "plt.plot(x,list1)\n",
        "ax.tick_params(axis='x', labelsize=8)\n",
        "ax.tick_params(axis='y', labelsize=8)\n",
        "plt.xlabel(\"epochs\",fontsize=\"12\")\n",
        "plt.ylabel(\"f(z)\",fontsize=\"12\")\n",
        "plt.savefig(\"Exercise-7.png\",dpi=400)\n",
        "plt.show()"
      ],
      "execution_count": null,
      "outputs": [
        {
          "output_type": "stream",
          "name": "stdout",
          "text": [
            "X =  [3.16 2.82 2.49]\n",
            "Y =  [5.87 0.31 1.25]\n",
            "Epochs :  45\n",
            "f(z) values= [140.208373466164, 128.54477693022525, 117.92672546080186, 108.25590678608867, 99.4327495707261, 91.40517423611368, 84.06350392095882, 77.36146826986713, 71.1866483081057, 65.06078785167422, 59.95101581730886, 55.024970321592505, 50.705040025555405, 50.70085350359866, 50.696831967947254, 50.696390580215564, 50.692165475837314, 50.688161869016554, 50.68775899418455, 50.687758582007795, 50.68775816773336, 50.68775776004976, 50.687757315433814, 50.68775311859449, 50.68774910441676, 50.68774910035046, 50.68774909587465, 50.687749054013196, 50.687749013835365, 50.68774901379505, 50.687749013794615, 50.687749013794225, 50.687749013794225, 50.687749013794225, 50.687749013794225, 50.687749013794225, 50.687749013794225, 50.687749013794225, 50.687749013794225, 50.687749013794225, 50.687749013794225, 50.687749013794225, 50.687749013794225, 50.687749013794225, 50.687749013794225]\n"
          ]
        },
        {
          "output_type": "display_data",
          "data": {
            "image/png": "[encoded data removed]",
            "text/plain": [
              "<Figure size 432x288 with 1 Axes>"
            ]
          },
          "metadata": {
            "needs_background": "light"
          }
        }
      ]
    }
  ]
}